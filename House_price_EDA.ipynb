{
 "cells": [
  {
   "cell_type": "code",
   "execution_count": null,
   "id": "95cba951",
   "metadata": {},
   "outputs": [],
   "source": [
    "import pandas as pd\n",
    "import numpy as np"
   ]
  },
  {
   "cell_type": "code",
   "execution_count": null,
   "id": "5dffc7d2",
   "metadata": {},
   "outputs": [],
   "source": [
    "df = pd.read_csv(r'C:\\Users\\Reetika Gupta\\House_Price..csv')\n",
    "df.head()"
   ]
  },
  {
   "cell_type": "code",
   "execution_count": null,
   "id": "1c6dd498",
   "metadata": {},
   "outputs": [],
   "source": [
    "# information from the data\n",
    "df.info()\n"
   ]
  },
  {
   "cell_type": "code",
   "execution_count": null,
   "id": "b69cdf77",
   "metadata": {},
   "outputs": [],
   "source": [
    "# five point story (only deals with numerical data)\n",
    "\n",
    "df.describe()"
   ]
  },
  {
   "cell_type": "code",
   "execution_count": null,
   "id": "51db13dc",
   "metadata": {},
   "outputs": [],
   "source": [
    "# mean\n",
    "df.age.mean()"
   ]
  },
  {
   "cell_type": "code",
   "execution_count": null,
   "id": "7ef6c178",
   "metadata": {},
   "outputs": [],
   "source": [
    "# median\n",
    "df.rainfall.median()"
   ]
  },
  {
   "cell_type": "code",
   "execution_count": null,
   "id": "7141cadc",
   "metadata": {},
   "outputs": [],
   "source": [
    "# standard deviation\n",
    "df.rainfall.std()"
   ]
  },
  {
   "cell_type": "code",
   "execution_count": null,
   "id": "6c4e281d",
   "metadata": {},
   "outputs": [],
   "source": [
    "# variance\n",
    "df.rainfall.var()"
   ]
  },
  {
   "cell_type": "code",
   "execution_count": null,
   "id": "8cbf004e",
   "metadata": {},
   "outputs": [],
   "source": [
    "# Missing Values\n",
    "df.isnull().sum()"
   ]
  },
  {
   "cell_type": "markdown",
   "id": "e6bb1b8c",
   "metadata": {},
   "source": [
    "# Data Visualisation"
   ]
  },
  {
   "cell_type": "code",
   "execution_count": null,
   "id": "bf6551be",
   "metadata": {},
   "outputs": [],
   "source": [
    "import seaborn as sns\n",
    "import matplotlib.pyplot as plt"
   ]
  },
  {
   "cell_type": "code",
   "execution_count": null,
   "id": "66786cb1",
   "metadata": {},
   "outputs": [],
   "source": [
    "%matplotlib inline"
   ]
  },
  {
   "cell_type": "markdown",
   "id": "6ca90b1b",
   "metadata": {},
   "source": [
    "# boxplot"
   ]
  },
  {
   "cell_type": "code",
   "execution_count": null,
   "id": "0667a296",
   "metadata": {},
   "outputs": [],
   "source": [
    "sns.boxplot(x='age', data=df)"
   ]
  },
  {
   "cell_type": "code",
   "execution_count": null,
   "id": "cd3368be",
   "metadata": {},
   "outputs": [],
   "source": [
    "sns.boxplot(x='waterbody', y='rainfall', data=df)"
   ]
  },
  {
   "cell_type": "code",
   "execution_count": null,
   "id": "0e36195c",
   "metadata": {},
   "outputs": [],
   "source": [
    "sns.boxplot(x='resid_area', y='airport', data=df)"
   ]
  },
  {
   "cell_type": "markdown",
   "id": "d82c35c0",
   "metadata": {},
   "source": [
    "# Histogram"
   ]
  },
  {
   "cell_type": "code",
   "execution_count": null,
   "id": "9b8c8f65",
   "metadata": {},
   "outputs": [],
   "source": [
    "df.hist(figsize = (10,15))"
   ]
  },
  {
   "cell_type": "code",
   "execution_count": null,
   "id": "5e84d3fc",
   "metadata": {},
   "outputs": [],
   "source": [
    "# using seaborn\n",
    "\n",
    "sns.histplot(df['age'], kde=True)"
   ]
  },
  {
   "cell_type": "code",
   "execution_count": null,
   "id": "7293098e",
   "metadata": {
    "scrolled": true
   },
   "outputs": [],
   "source": [
    "# categorical data analysis\n",
    "# countplot\n",
    "\n",
    "sns.countplot(x='waterbody', data=df)"
   ]
  },
  {
   "cell_type": "code",
   "execution_count": null,
   "id": "50c0aee6",
   "metadata": {},
   "outputs": [],
   "source": [
    "sns.countplot(x='rainfall',hue='waterbody', data=df)"
   ]
  },
  {
   "cell_type": "markdown",
   "id": "6f4c3fef",
   "metadata": {},
   "source": [
    "# scatter plot (plotting the correlation)"
   ]
  },
  {
   "cell_type": "code",
   "execution_count": null,
   "id": "7620e714",
   "metadata": {},
   "outputs": [],
   "source": [
    "# correlation\n",
    "\n",
    "# Corr(X,Y) = Cov[X,Y] / ( StdDev(X) ∙ StdDev(Y) )"
   ]
  },
  {
   "cell_type": "code",
   "execution_count": null,
   "id": "cb0a77cd",
   "metadata": {},
   "outputs": [],
   "source": [
    "# pairplot (it gives the correlation between all variables)\n",
    "\n",
    "sns.pairplot(df)"
   ]
  },
  {
   "cell_type": "code",
   "execution_count": null,
   "id": "3d4b343b",
   "metadata": {},
   "outputs": [],
   "source": [
    "# correlation (can be only found for numerical data)\n",
    "\n",
    "# drop all the categorical variables\n",
    "\n",
    "df_num = df.drop(['age'], axis=1)\n",
    "df_num\n"
   ]
  },
  {
   "cell_type": "code",
   "execution_count": null,
   "id": "b6f7d3e8",
   "metadata": {},
   "outputs": [],
   "source": [
    "df_num = df.drop(['crime_rate','resid_area','airport'], axis=1)\n",
    "df_num"
   ]
  },
  {
   "cell_type": "code",
   "execution_count": null,
   "id": "0a844e40",
   "metadata": {},
   "outputs": [],
   "source": [
    "correlation_matrix=df.describe().corr()\n",
    "correlation_matrix"
   ]
  },
  {
   "cell_type": "code",
   "execution_count": null,
   "id": "9372c6d2",
   "metadata": {},
   "outputs": [],
   "source": [
    "fig, ax = plt.subplots(figsize=(10,10)) # to resize the heatmap\n",
    "sns.heatmap(correlation_matrix, annot=True, ax=ax)"
   ]
  },
  {
   "cell_type": "code",
   "execution_count": null,
   "id": "88c720ff",
   "metadata": {},
   "outputs": [],
   "source": [
    "# jointplot (information about outlier with a scatter plot)   ---> bivariate analysis"
   ]
  },
  {
   "cell_type": "code",
   "execution_count": null,
   "id": "c52ac65e",
   "metadata": {},
   "outputs": [],
   "source": [
    "sns.jointplot(x='age', y='teachers', data=df)"
   ]
  },
  {
   "cell_type": "code",
   "execution_count": null,
   "id": "17231a5b",
   "metadata": {},
   "outputs": [],
   "source": []
  }
 ],
 "metadata": {
  "kernelspec": {
   "display_name": "Python 3 (ipykernel)",
   "language": "python",
   "name": "python3"
  },
  "language_info": {
   "codemirror_mode": {
    "name": "ipython",
    "version": 3
   },
   "file_extension": ".py",
   "mimetype": "text/x-python",
   "name": "python",
   "nbconvert_exporter": "python",
   "pygments_lexer": "ipython3",
   "version": "3.11.5"
  }
 },
 "nbformat": 4,
 "nbformat_minor": 5
}
